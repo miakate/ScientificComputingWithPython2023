{
 "cells": [
  {
   "cell_type": "code",
   "execution_count": 1,
   "id": "e1274c97-d58c-4f02-968d-bea7842fb2e5",
   "metadata": {},
   "outputs": [
    {
     "name": "stdout",
     "output_type": "stream",
     "text": [
      "JSON files\n"
     ]
    },
    {
     "ename": "FileNotFoundError",
     "evalue": "[Errno 2] No such file or directory: 'data/user_data.json'",
     "output_type": "error",
     "traceback": [
      "\u001b[0;31m---------------------------------------------------------------------------\u001b[0m",
      "\u001b[0;31mFileNotFoundError\u001b[0m                         Traceback (most recent call last)",
      "Cell \u001b[0;32mIn[1], line 10\u001b[0m\n\u001b[1;32m      8\u001b[0m \u001b[38;5;28mprint\u001b[39m(\u001b[38;5;124m'\u001b[39m\u001b[38;5;124mJSON files\u001b[39m\u001b[38;5;124m'\u001b[39m)\n\u001b[1;32m      9\u001b[0m json_filename \u001b[38;5;241m=\u001b[39m \u001b[38;5;124m\"\u001b[39m\u001b[38;5;124mdata/user_data.json\u001b[39m\u001b[38;5;124m\"\u001b[39m\n\u001b[0;32m---> 10\u001b[0m \u001b[38;5;28;01mwith\u001b[39;00m \u001b[38;5;28;43mopen\u001b[39;49m\u001b[43m(\u001b[49m\u001b[43mjson_filename\u001b[49m\u001b[43m,\u001b[49m\u001b[43m \u001b[49m\u001b[38;5;124;43m\"\u001b[39;49m\u001b[38;5;124;43mr\u001b[39;49m\u001b[38;5;124;43m\"\u001b[39;49m\u001b[43m)\u001b[49m \u001b[38;5;28;01mas\u001b[39;00m json_file:\n\u001b[1;32m     11\u001b[0m     user_data \u001b[38;5;241m=\u001b[39m json\u001b[38;5;241m.\u001b[39mload(json_file)\n\u001b[1;32m     13\u001b[0m filtered_data \u001b[38;5;241m=\u001b[39m [user \u001b[38;5;28;01mfor\u001b[39;00m user \u001b[38;5;129;01min\u001b[39;00m user_data \u001b[38;5;28;01mif\u001b[39;00m user\u001b[38;5;241m.\u001b[39mget(\u001b[38;5;124m\"\u001b[39m\u001b[38;5;124mCreditCardType\u001b[39m\u001b[38;5;124m\"\u001b[39m) \u001b[38;5;241m==\u001b[39m \u001b[38;5;124m\"\u001b[39m\u001b[38;5;124mAmerican Express\u001b[39m\u001b[38;5;124m\"\u001b[39m]\n",
      "File \u001b[0;32m~/.local/lib/python3.10/site-packages/IPython/core/interactiveshell.py:310\u001b[0m, in \u001b[0;36m_modified_open\u001b[0;34m(file, *args, **kwargs)\u001b[0m\n\u001b[1;32m    303\u001b[0m \u001b[38;5;28;01mif\u001b[39;00m file \u001b[38;5;129;01min\u001b[39;00m {\u001b[38;5;241m0\u001b[39m, \u001b[38;5;241m1\u001b[39m, \u001b[38;5;241m2\u001b[39m}:\n\u001b[1;32m    304\u001b[0m     \u001b[38;5;28;01mraise\u001b[39;00m \u001b[38;5;167;01mValueError\u001b[39;00m(\n\u001b[1;32m    305\u001b[0m         \u001b[38;5;124mf\u001b[39m\u001b[38;5;124m\"\u001b[39m\u001b[38;5;124mIPython won\u001b[39m\u001b[38;5;124m'\u001b[39m\u001b[38;5;124mt let you open fd=\u001b[39m\u001b[38;5;132;01m{\u001b[39;00mfile\u001b[38;5;132;01m}\u001b[39;00m\u001b[38;5;124m by default \u001b[39m\u001b[38;5;124m\"\u001b[39m\n\u001b[1;32m    306\u001b[0m         \u001b[38;5;124m\"\u001b[39m\u001b[38;5;124mas it is likely to crash IPython. If you know what you are doing, \u001b[39m\u001b[38;5;124m\"\u001b[39m\n\u001b[1;32m    307\u001b[0m         \u001b[38;5;124m\"\u001b[39m\u001b[38;5;124myou can use builtins\u001b[39m\u001b[38;5;124m'\u001b[39m\u001b[38;5;124m open.\u001b[39m\u001b[38;5;124m\"\u001b[39m\n\u001b[1;32m    308\u001b[0m     )\n\u001b[0;32m--> 310\u001b[0m \u001b[38;5;28;01mreturn\u001b[39;00m \u001b[43mio_open\u001b[49m\u001b[43m(\u001b[49m\u001b[43mfile\u001b[49m\u001b[43m,\u001b[49m\u001b[43m \u001b[49m\u001b[38;5;241;43m*\u001b[39;49m\u001b[43margs\u001b[49m\u001b[43m,\u001b[49m\u001b[43m \u001b[49m\u001b[38;5;241;43m*\u001b[39;49m\u001b[38;5;241;43m*\u001b[39;49m\u001b[43mkwargs\u001b[49m\u001b[43m)\u001b[49m\n",
      "\u001b[0;31mFileNotFoundError\u001b[0m: [Errno 2] No such file or directory: 'data/user_data.json'"
     ]
    }
   ],
   "source": [
    "import json\n",
    "import csv\n",
    "import pandas as pd\n",
    "import sqlite3 as sql\n",
    "import struct\n",
    "\n",
    "# 2. JSON files\n",
    "print('JSON files')\n",
    "json_filename = \"data/user_data.json\"\n",
    "with open(json_filename, \"r\") as json_file:\n",
    "    user_data = json.load(json_file)\n",
    "\n",
    "filtered_data = [user for user in user_data if user.get(\"CreditCardType\") == \"American Express\"]\n",
    "csv_filename = \"data/american_express_users.csv\"\n",
    "with open(csv_filename, \"w\", newline=\"\") as csvfile:\n",
    "    fieldnames = user_data[0].keys()\n",
    "    writer = csv.DictWriter(csvfile, fieldnames=fieldnames)\n",
    "\n",
    "    writer.writeheader()\n",
    "    for user in filtered_data:\n",
    "        writer.writerow(user)\n",
    "\n",
    "print(f\"Filtered data saved to {csv_filename}\")\n",
    "\n",
    "# 3. CSV files with Pandas\n",
    "print('3. CSV files with Pandas')\n",
    "url = \"data/mushrooms_categorized.csv\"\n",
    "mushrooms_df = pd.read_csv(url)\n",
    "\n",
    "print(\"DataFrame Info:\")\n",
    "print(mushrooms_df.info())\n",
    "print(\"\\nDataFrame Head:\")\n",
    "print(mushrooms_df.head())\n",
    "\n",
    "average_values = mushrooms_df.groupby('class').mean()\n",
    "print(\"\\nAverage Values for Each Class:\")\n",
    "print(average_values)\n",
    "json_filename = \"data/mushrooms_average_values.json\"\n",
    "average_values.to_json(json_filename, orient='index')\n",
    "\n",
    "print(f\"\\nDataFrame with average values saved to {json_filename} in JSON format.\")\n",
    "\n",
    "# 4.Reading a database\n",
    "print(\"4.Reading a database\")\n",
    "conn = sql.connect('data/sakila.db')\n",
    "actors_df = pd.read_sql_query(\"SELECT * FROM actor\", conn)\n",
    "conn.close()\n",
    "count_a_actors = actors_df['first_name'].str.startswith('A').sum()\n",
    "\n",
    "print(f\"Number of actors with a first name starting with 'A': {count_a_actors}\")\n",
    "\n",
    "# 5. Reading the credit card numbers\n",
    "print('Reading the credit card numbers')\n",
    "\n",
    "\n",
    "def binary_to_decimal(binary_str):\n",
    "    return int(binary_str, 2)\n",
    "\n",
    "\n",
    "file_path = 'data/credit_card.dat'\n",
    "with open(file_path, 'rb') as file:\n",
    "    lines = file.readlines()\n",
    "for line in lines:\n",
    "    binary_string = line.rstrip(b'\\n').decode('utf-8')[:-4]\n",
    "    decimal_numbers = [int(binary_string[i:i + 6], 2) for i in range(0, len(binary_string), 6)]\n",
    "\n",
    "    credit_card_number = ''.join(map(chr, decimal_numbers))\n",
    "\n",
    "    print(f\"Credit Card Number: {credit_card_number}\")\n",
    "\n",
    "# 6. Write data to a binary file\n",
    "file_path = 'data/data_000637.txt'\n",
    "df = pd.read_csv(file_path, sep='\\t', header=None, nrows=10)\n",
    "\n",
    "binary_file_path = 'data/data_000637.bin'\n",
    "with open(binary_file_path, 'wb') as binary_file:\n",
    "    \n",
    "    for _, row in df.iterrows():\n",
    "  \n",
    "        packed_values = struct.pack('<ddd', row[0], row[1], row[2])\n",
    "        \n",
    "        binary_file.write(packed_values)\n",
    "print(f'Data  {binary_file_path}')\n"
   ]
  },
  {
   "cell_type": "code",
   "execution_count": null,
   "id": "ccaf7f2f-e8cd-4f13-9a04-29cdc3237b0a",
   "metadata": {},
   "outputs": [],
   "source": []
  }
 ],
 "metadata": {
  "kernelspec": {
   "display_name": "Python 3 (ipykernel)",
   "language": "python",
   "name": "python3"
  },
  "language_info": {
   "codemirror_mode": {
    "name": "ipython",
    "version": 3
   },
   "file_extension": ".py",
   "mimetype": "text/x-python",
   "name": "python",
   "nbconvert_exporter": "python",
   "pygments_lexer": "ipython3",
   "version": "3.10.12"
  }
 },
 "nbformat": 4,
 "nbformat_minor": 5
}
